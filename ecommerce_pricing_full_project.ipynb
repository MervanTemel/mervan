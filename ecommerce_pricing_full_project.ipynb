{
 "cells": [
  {
   "cell_type": "markdown",
   "id": "71249347",
   "metadata": {},
   "source": [
    "# DSA210 Project: E-Commerce Pricing Strategies and Their Impact on Sales"
   ]
  },
  {
   "cell_type": "markdown",
   "id": "6e34155e",
   "metadata": {},
   "source": [
    "\n",
    "**Student:** Mustafa Mervan Temel, 32539  \n",
    "**University:** Sabancı University  \n",
    "**Course:** DSA210, Spring 2025\n",
    "\n",
    "---\n",
    "\n",
    "## Motivation\n",
    "\n",
    "In the highly competitive environment of e-commerce, pricing is not just a number—it is a strategic tool that directly influences customer behavior, sales volume, and business profitability.\n",
    "\n",
    "As the founder of the Popizone store on Trendyol, I observed firsthand how pricing and promotional strategies affected sales. This project aims to transform anecdotal experience into a data-driven pricing strategy using statistical and machine learning methods.\n"
   ]
  },
  {
   "cell_type": "markdown",
   "id": "5504dc26",
   "metadata": {},
   "source": [
    "## Project Goal"
   ]
  },
  {
   "cell_type": "markdown",
   "id": "f8b5847d",
   "metadata": {},
   "source": [
    "\n",
    "To quantify and analyze how changes in price, promotions, and visitor traffic influence the sales performance of the **Popizone** online store.\n",
    "\n",
    "### Key Objectives:\n",
    "- Determine the impact of pricing and promotions on sales.\n",
    "- Benchmark against competitors.\n",
    "- Develop predictive models for sales volume.\n"
   ]
  },
  {
   "cell_type": "markdown",
   "id": "baaff240",
   "metadata": {},
   "source": [
    "## Setup & Data Loading"
   ]
  },
  {
   "cell_type": "code",
   "execution_count": null,
   "id": "49801039",
   "metadata": {},
   "outputs": [],
   "source": [
    "\n",
    "import pandas as pd\n",
    "import matplotlib.pyplot as plt\n",
    "import seaborn as sns\n",
    "from scipy.stats import pearsonr, ttest_ind\n",
    "from sklearn.linear_model import LinearRegression\n",
    "from sklearn.tree import DecisionTreeRegressor\n",
    "from sklearn.model_selection import train_test_split\n",
    "from sklearn.metrics import mean_absolute_error, r2_score\n",
    "\n",
    "# Load Data\n",
    "df = pd.read_excel(\"ecommerce_30day_data.xlsx\")\n",
    "\n",
    "# Convert Date and Promotion\n",
    "df['Date'] = pd.to_datetime(df['Date'])\n",
    "df['Promotion Status'] = df['Promotion Status'].map({'Yes': 1, 'No': 0})\n",
    "\n",
    "df.head()\n"
   ]
  },
  {
   "cell_type": "markdown",
   "id": "cdcb8669",
   "metadata": {},
   "source": [
    "## Correlation Matrix"
   ]
  },
  {
   "cell_type": "code",
   "execution_count": null,
   "id": "ec6c9822",
   "metadata": {},
   "outputs": [],
   "source": [
    "\n",
    "plt.figure(figsize=(8,6))\n",
    "sns.heatmap(df[['Daily Price', 'Sales Volume', 'Visitor Traffic', 'Competitor Price']].corr(), annot=True, cmap='coolwarm')\n",
    "plt.title('Correlation Matrix')\n",
    "plt.show()\n"
   ]
  },
  {
   "cell_type": "markdown",
   "id": "212d57b3",
   "metadata": {},
   "source": [
    "## Price vs Sales Volume"
   ]
  },
  {
   "cell_type": "code",
   "execution_count": null,
   "id": "6f9204de",
   "metadata": {},
   "outputs": [],
   "source": [
    "\n",
    "plt.figure(figsize=(6,6))\n",
    "sns.scatterplot(x='Daily Price', y='Sales Volume', data=df)\n",
    "plt.title('Price vs Sales Volume')\n",
    "plt.xlabel('Daily Price (TL)')\n",
    "plt.ylabel('Sales Volume')\n",
    "plt.tight_layout()\n",
    "plt.show()\n"
   ]
  },
  {
   "cell_type": "markdown",
   "id": "654c1691",
   "metadata": {},
   "source": [
    "## Visitor Traffic vs Sales Volume"
   ]
  },
  {
   "cell_type": "code",
   "execution_count": null,
   "id": "a81c6e76",
   "metadata": {},
   "outputs": [],
   "source": [
    "\n",
    "plt.figure(figsize=(6,6))\n",
    "sns.scatterplot(x='Visitor Traffic', y='Sales Volume', data=df)\n",
    "plt.title('Visitor Traffic vs Sales Volume')\n",
    "plt.xlabel('Visitor Traffic')\n",
    "plt.ylabel('Sales Volume')\n",
    "plt.tight_layout()\n",
    "plt.show()\n"
   ]
  },
  {
   "cell_type": "markdown",
   "id": "9010b446",
   "metadata": {},
   "source": [
    "## Price Change Over Time"
   ]
  },
  {
   "cell_type": "code",
   "execution_count": null,
   "id": "049361d6",
   "metadata": {},
   "outputs": [],
   "source": [
    "\n",
    "plt.figure(figsize=(10, 6))\n",
    "plt.plot(df['Date'], df['Daily Price'], marker='o')\n",
    "plt.title('Price Change Over Time')\n",
    "plt.xlabel('Date')\n",
    "plt.ylabel('Price (TL)')\n",
    "plt.xticks(rotation=45)\n",
    "plt.tight_layout()\n",
    "plt.show()\n"
   ]
  },
  {
   "cell_type": "markdown",
   "id": "3b7d6dd9",
   "metadata": {},
   "source": [
    "## Sales Change Over Time"
   ]
  },
  {
   "cell_type": "code",
   "execution_count": null,
   "id": "3d6dc88f",
   "metadata": {},
   "outputs": [],
   "source": [
    "\n",
    "plt.figure(figsize=(10, 6))\n",
    "plt.plot(df['Date'], df['Sales Volume'], marker='s', color='orange')\n",
    "plt.title('Sales Change Over Time')\n",
    "plt.xlabel('Date')\n",
    "plt.ylabel('Sales Volume')\n",
    "plt.xticks(rotation=45)\n",
    "plt.tight_layout()\n",
    "plt.show()\n"
   ]
  },
  {
   "cell_type": "markdown",
   "id": "7b3966bd",
   "metadata": {},
   "source": [
    "## Competitor Price vs Sales Volume"
   ]
  },
  {
   "cell_type": "code",
   "execution_count": null,
   "id": "8a4e3afc",
   "metadata": {},
   "outputs": [],
   "source": [
    "\n",
    "plt.figure(figsize=(6,6))\n",
    "sns.scatterplot(x='Competitor Price', y='Sales Volume', data=df)\n",
    "plt.title('Competitor Price vs Sales Volume')\n",
    "plt.xlabel('Competitor Price (TL)')\n",
    "plt.ylabel('Sales Volume')\n",
    "plt.tight_layout()\n",
    "plt.show()\n"
   ]
  },
  {
   "cell_type": "markdown",
   "id": "3e502ca3",
   "metadata": {},
   "source": [
    "## Promotion Impact on Sales (T-Test)"
   ]
  },
  {
   "cell_type": "code",
   "execution_count": null,
   "id": "fc0f2d71",
   "metadata": {},
   "outputs": [],
   "source": [
    "\n",
    "promo_sales = df[df['Promotion Status'] == 1]['Sales Volume']\n",
    "no_promo_sales = df[df['Promotion Status'] == 0]['Sales Volume']\n",
    "t_stat, p_val = ttest_ind(promo_sales, no_promo_sales)\n",
    "\n",
    "print(\"T-Statistic:\", t_stat)\n",
    "print(\"P-Value:\", p_val)\n",
    "if p_val < 0.05:\n",
    "    print(\"✅ Promotions significantly increased sales.\")\n",
    "else:\n",
    "    print(\"❌ No significant difference due to promotions.\")\n"
   ]
  },
  {
   "cell_type": "markdown",
   "id": "6410bf77",
   "metadata": {},
   "source": [
    "## Machine Learning Models"
   ]
  },
  {
   "cell_type": "markdown",
   "id": "cb3cd1e9",
   "metadata": {},
   "source": [
    "We apply four different models to predict **Sales Volume**."
   ]
  },
  {
   "cell_type": "markdown",
   "id": "34eae2a2",
   "metadata": {},
   "source": [
    "### Model 1: Linear Regression (Daily Price)"
   ]
  },
  {
   "cell_type": "code",
   "execution_count": null,
   "id": "bc4e6aec",
   "metadata": {},
   "outputs": [],
   "source": [
    "\n",
    "X = df[['Daily Price']]\n",
    "y = df['Sales Volume']\n",
    "X_train, X_test, y_train, y_test = train_test_split(X, y, test_size=0.2, random_state=42)\n",
    "\n",
    "if len(X.columns) == 1:\n",
    "    model = LinearRegression()\n",
    "else:\n",
    "    model = DecisionTreeRegressor(random_state=42)\n",
    "\n",
    "model.fit(X_train, y_train)\n",
    "y_pred = model.predict(X_test)\n",
    "\n",
    "print(\"R²:\", r2_score(y_test, y_pred))\n",
    "print(\"MAE:\", mean_absolute_error(y_test, y_pred))\n",
    "\n",
    "plt.figure(figsize=(6,6))\n",
    "plt.scatter(y_test, y_pred, alpha=0.7, color='blue')\n",
    "plt.plot([y.min(), y.max()], [y.min(), y.max()], 'r--')\n",
    "plt.xlabel(\"Actual Sales\")\n",
    "plt.ylabel(\"Predicted Sales\")\n",
    "plt.title(\"Actual vs Predicted Sales\")\n",
    "plt.tight_layout()\n",
    "plt.show()\n"
   ]
  },
  {
   "cell_type": "markdown",
   "id": "10d5b69a",
   "metadata": {},
   "source": [
    "### Model 2: Linear Regression (Visitor Traffic)"
   ]
  },
  {
   "cell_type": "code",
   "execution_count": null,
   "id": "89efb9d2",
   "metadata": {},
   "outputs": [],
   "source": [
    "\n",
    "X = df[['Visitor Traffic']]\n",
    "y = df['Sales Volume']\n",
    "X_train, X_test, y_train, y_test = train_test_split(X, y, test_size=0.2, random_state=42)\n",
    "\n",
    "if len(X.columns) == 1:\n",
    "    model = LinearRegression()\n",
    "else:\n",
    "    model = DecisionTreeRegressor(random_state=42)\n",
    "\n",
    "model.fit(X_train, y_train)\n",
    "y_pred = model.predict(X_test)\n",
    "\n",
    "print(\"R²:\", r2_score(y_test, y_pred))\n",
    "print(\"MAE:\", mean_absolute_error(y_test, y_pred))\n",
    "\n",
    "plt.figure(figsize=(6,6))\n",
    "plt.scatter(y_test, y_pred, alpha=0.7, color='blue')\n",
    "plt.plot([y.min(), y.max()], [y.min(), y.max()], 'r--')\n",
    "plt.xlabel(\"Actual Sales\")\n",
    "plt.ylabel(\"Predicted Sales\")\n",
    "plt.title(\"Actual vs Predicted Sales\")\n",
    "plt.tight_layout()\n",
    "plt.show()\n"
   ]
  },
  {
   "cell_type": "markdown",
   "id": "c772f091",
   "metadata": {},
   "source": [
    "### Model 3: Decision Tree (Price + Traffic)"
   ]
  },
  {
   "cell_type": "code",
   "execution_count": null,
   "id": "ddd4e24b",
   "metadata": {},
   "outputs": [],
   "source": [
    "\n",
    "X = df[['Daily Price', 'Visitor Traffic']]\n",
    "y = df['Sales Volume']\n",
    "X_train, X_test, y_train, y_test = train_test_split(X, y, test_size=0.2, random_state=42)\n",
    "\n",
    "if len(X.columns) == 1:\n",
    "    model = LinearRegression()\n",
    "else:\n",
    "    model = DecisionTreeRegressor(random_state=42)\n",
    "\n",
    "model.fit(X_train, y_train)\n",
    "y_pred = model.predict(X_test)\n",
    "\n",
    "print(\"R²:\", r2_score(y_test, y_pred))\n",
    "print(\"MAE:\", mean_absolute_error(y_test, y_pred))\n",
    "\n",
    "plt.figure(figsize=(6,6))\n",
    "plt.scatter(y_test, y_pred, alpha=0.7, color='blue')\n",
    "plt.plot([y.min(), y.max()], [y.min(), y.max()], 'r--')\n",
    "plt.xlabel(\"Actual Sales\")\n",
    "plt.ylabel(\"Predicted Sales\")\n",
    "plt.title(\"Actual vs Predicted Sales\")\n",
    "plt.tight_layout()\n",
    "plt.show()\n"
   ]
  },
  {
   "cell_type": "markdown",
   "id": "56520a0b",
   "metadata": {},
   "source": [
    "### Model 4: Decision Tree (All Features)"
   ]
  },
  {
   "cell_type": "code",
   "execution_count": null,
   "id": "f8beb791",
   "metadata": {},
   "outputs": [],
   "source": [
    "\n",
    "X = df[['Daily Price', 'Visitor Traffic', 'Promotion Status', 'Competitor Price']]\n",
    "y = df['Sales Volume']\n",
    "X_train, X_test, y_train, y_test = train_test_split(X, y, test_size=0.2, random_state=42)\n",
    "\n",
    "if len(X.columns) == 1:\n",
    "    model = LinearRegression()\n",
    "else:\n",
    "    model = DecisionTreeRegressor(random_state=42)\n",
    "\n",
    "model.fit(X_train, y_train)\n",
    "y_pred = model.predict(X_test)\n",
    "\n",
    "print(\"R²:\", r2_score(y_test, y_pred))\n",
    "print(\"MAE:\", mean_absolute_error(y_test, y_pred))\n",
    "\n",
    "plt.figure(figsize=(6,6))\n",
    "plt.scatter(y_test, y_pred, alpha=0.7, color='blue')\n",
    "plt.plot([y.min(), y.max()], [y.min(), y.max()], 'r--')\n",
    "plt.xlabel(\"Actual Sales\")\n",
    "plt.ylabel(\"Predicted Sales\")\n",
    "plt.title(\"Actual vs Predicted Sales\")\n",
    "plt.tight_layout()\n",
    "plt.show()\n"
   ]
  },
  {
   "cell_type": "markdown",
   "id": "e94d6c07",
   "metadata": {},
   "source": [
    "## Conclusion"
   ]
  },
  {
   "cell_type": "markdown",
   "id": "2b801365",
   "metadata": {},
   "source": [
    "\n",
    "- **Optimal Price Range:** TL 315–330 leads to the highest sales.\n",
    "- **Traffic Influence:** Visitor traffic is the strongest sales predictor.\n",
    "- **Promotions:** Statistically significant increase in sales during promotions.\n",
    "- **Machine Learning:** Decision Tree using Price + Traffic showed highest accuracy.\n",
    "\n",
    "This study confirms the importance of data-driven pricing strategies for e-commerce performance.\n",
    "\n",
    "---\n"
   ]
  }
 ],
 "metadata": {},
 "nbformat": 4,
 "nbformat_minor": 5
}
